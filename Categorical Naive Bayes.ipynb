{
 "cells": [
  {
   "cell_type": "markdown",
   "id": "c81e60f7",
   "metadata": {},
   "source": [
    "#### Importing modules"
   ]
  },
  {
   "cell_type": "code",
   "execution_count": 1,
   "id": "158ebf17",
   "metadata": {},
   "outputs": [],
   "source": [
    "import pandas as pd\n",
    "import numpy as np\n",
    "from sklearn.model_selection import StratifiedKFold\n",
    "from sklearn.metrics import accuracy_score"
   ]
  },
  {
   "cell_type": "markdown",
   "id": "7dff651a",
   "metadata": {},
   "source": [
    "#### Categorical Naive Bayes"
   ]
  },
  {
   "cell_type": "code",
   "execution_count": 2,
   "id": "1e4f9133",
   "metadata": {},
   "outputs": [],
   "source": [
    "class CategoricalNaiveBayes:\n",
    "    # Constructor\n",
    "    def __init__(self):\n",
    "        self.probs = dict()\n",
    "        self.cond_probs = dict()\n",
    "        self.targets = list()\n",
    "        self.columns = list()\n",
    "    \n",
    "    # Fit method\n",
    "    def fit(self, x, y, column_names):\n",
    "        self.__init__()\n",
    "        # Preparing DataFrame\n",
    "        dataset = pd.DataFrame(data=x, index=None, columns=column_names[:-1])\n",
    "        target_column_name = column_names[-1]\n",
    "        dataset[target_column_name] = y\n",
    "        \n",
    "        # Preparing probabilities dictionary\n",
    "        for column in dataset:\n",
    "            self.probs[column] = dict()\n",
    "            for value in dataset[column].unique():\n",
    "                self.probs[column][value] = len(dataset.query('{0} == @value'.format(column))) / len(dataset)\n",
    "        \n",
    "        # Preparing conditional_probabilities dictionary\n",
    "        for column in dataset.drop([target_column_name], axis=1):\n",
    "            self.cond_probs[column] = dict()\n",
    "            for value1 in dataset[column].unique():\n",
    "                for value2 in dataset[target_column_name].unique():\n",
    "                    self.cond_probs[column][f'{value1}-{value2}'] = len(dataset.query('{0} == @value1 & {1} == @value2'.format(column, target_column_name))) / len(dataset.query('{0} == @value2'.format(target_column_name)))\n",
    "        \n",
    "        self.targets = dataset[target_column_name].unique()\n",
    "        self.columns = column_names\n",
    "    \n",
    "    # Predict method\n",
    "    def predict(self, x):\n",
    "        predicts = list()\n",
    "        for row in x:\n",
    "            target_prob_dict = dict()\n",
    "            for target in self.targets:\n",
    "                row_cond_probs = [self.cond_probs[column][f'{value}-{target}'] for column, value in zip(self.columns, row)]\n",
    "                target_prob_dict[target] = ( np.prod(row_cond_probs) * self.probs[self.columns[-1]][target] )\n",
    "            predicts.append( max(target_prob_dict, key=target_prob_dict.get) )\n",
    "        return predicts"
   ]
  },
  {
   "cell_type": "markdown",
   "id": "1d5ae76f",
   "metadata": {},
   "source": [
    "#### Loading dataset"
   ]
  },
  {
   "cell_type": "code",
   "execution_count": 3,
   "id": "19ecf76d",
   "metadata": {},
   "outputs": [],
   "source": [
    "dataset = pd.read_csv(\"dataset/categ.csv\")\n",
    "del dataset[\"Unnamed: 0\"]"
   ]
  },
  {
   "cell_type": "code",
   "execution_count": 4,
   "id": "435bf63e",
   "metadata": {},
   "outputs": [
    {
     "data": {
      "text/html": [
       "<div>\n",
       "<style scoped>\n",
       "    .dataframe tbody tr th:only-of-type {\n",
       "        vertical-align: middle;\n",
       "    }\n",
       "\n",
       "    .dataframe tbody tr th {\n",
       "        vertical-align: top;\n",
       "    }\n",
       "\n",
       "    .dataframe thead th {\n",
       "        text-align: right;\n",
       "    }\n",
       "</style>\n",
       "<table border=\"1\" class=\"dataframe\">\n",
       "  <thead>\n",
       "    <tr style=\"text-align: right;\">\n",
       "      <th></th>\n",
       "      <th>size</th>\n",
       "      <th>material</th>\n",
       "      <th>color</th>\n",
       "      <th>sleeves</th>\n",
       "      <th>demand</th>\n",
       "    </tr>\n",
       "  </thead>\n",
       "  <tbody>\n",
       "    <tr>\n",
       "      <th>0</th>\n",
       "      <td>S</td>\n",
       "      <td>nylon</td>\n",
       "      <td>white</td>\n",
       "      <td>long</td>\n",
       "      <td>medium</td>\n",
       "    </tr>\n",
       "    <tr>\n",
       "      <th>1</th>\n",
       "      <td>XL</td>\n",
       "      <td>polyester</td>\n",
       "      <td>cream</td>\n",
       "      <td>short</td>\n",
       "      <td>high</td>\n",
       "    </tr>\n",
       "    <tr>\n",
       "      <th>2</th>\n",
       "      <td>S</td>\n",
       "      <td>silk</td>\n",
       "      <td>blue</td>\n",
       "      <td>short</td>\n",
       "      <td>medium</td>\n",
       "    </tr>\n",
       "    <tr>\n",
       "      <th>3</th>\n",
       "      <td>M</td>\n",
       "      <td>cotton</td>\n",
       "      <td>black</td>\n",
       "      <td>short</td>\n",
       "      <td>medium</td>\n",
       "    </tr>\n",
       "    <tr>\n",
       "      <th>4</th>\n",
       "      <td>XL</td>\n",
       "      <td>polyester</td>\n",
       "      <td>orange</td>\n",
       "      <td>long</td>\n",
       "      <td>medium</td>\n",
       "    </tr>\n",
       "    <tr>\n",
       "      <th>...</th>\n",
       "      <td>...</td>\n",
       "      <td>...</td>\n",
       "      <td>...</td>\n",
       "      <td>...</td>\n",
       "      <td>...</td>\n",
       "    </tr>\n",
       "    <tr>\n",
       "      <th>9995</th>\n",
       "      <td>M</td>\n",
       "      <td>nylon</td>\n",
       "      <td>black</td>\n",
       "      <td>long</td>\n",
       "      <td>medium</td>\n",
       "    </tr>\n",
       "    <tr>\n",
       "      <th>9996</th>\n",
       "      <td>L</td>\n",
       "      <td>cotton</td>\n",
       "      <td>white</td>\n",
       "      <td>long</td>\n",
       "      <td>high</td>\n",
       "    </tr>\n",
       "    <tr>\n",
       "      <th>9997</th>\n",
       "      <td>XXL</td>\n",
       "      <td>nylon</td>\n",
       "      <td>black</td>\n",
       "      <td>long</td>\n",
       "      <td>medium</td>\n",
       "    </tr>\n",
       "    <tr>\n",
       "      <th>9998</th>\n",
       "      <td>S</td>\n",
       "      <td>linen</td>\n",
       "      <td>white</td>\n",
       "      <td>long</td>\n",
       "      <td>high</td>\n",
       "    </tr>\n",
       "    <tr>\n",
       "      <th>9999</th>\n",
       "      <td>S</td>\n",
       "      <td>cotton</td>\n",
       "      <td>red</td>\n",
       "      <td>long</td>\n",
       "      <td>high</td>\n",
       "    </tr>\n",
       "  </tbody>\n",
       "</table>\n",
       "<p>10000 rows × 5 columns</p>\n",
       "</div>"
      ],
      "text/plain": [
       "     size   material   color sleeves  demand\n",
       "0       S      nylon   white    long  medium\n",
       "1      XL  polyester   cream   short    high\n",
       "2       S       silk    blue   short  medium\n",
       "3       M     cotton   black   short  medium\n",
       "4      XL  polyester  orange    long  medium\n",
       "...   ...        ...     ...     ...     ...\n",
       "9995    M      nylon   black    long  medium\n",
       "9996    L     cotton   white    long    high\n",
       "9997  XXL      nylon   black    long  medium\n",
       "9998    S      linen   white    long    high\n",
       "9999    S     cotton     red    long    high\n",
       "\n",
       "[10000 rows x 5 columns]"
      ]
     },
     "execution_count": 4,
     "metadata": {},
     "output_type": "execute_result"
    }
   ],
   "source": [
    "dataset"
   ]
  },
  {
   "cell_type": "markdown",
   "id": "df2e82ad",
   "metadata": {},
   "source": [
    "#### Dividing dataset into data / target"
   ]
  },
  {
   "cell_type": "code",
   "execution_count": 5,
   "id": "005a6bdb",
   "metadata": {},
   "outputs": [],
   "source": [
    "columns = dataset.columns.to_numpy()\n",
    "target = (dataset[\"demand\"]).to_numpy()\n",
    "del dataset[\"demand\"]\n",
    "data = dataset.to_numpy()"
   ]
  },
  {
   "cell_type": "markdown",
   "id": "3c7b26de",
   "metadata": {},
   "source": [
    "#### Evaluating Classifier's Average Efficency"
   ]
  },
  {
   "cell_type": "code",
   "execution_count": 6,
   "id": "23e3d5f5",
   "metadata": {},
   "outputs": [],
   "source": [
    "cv = StratifiedKFold(n_splits=5, shuffle=True)\n",
    "efficency = []\n",
    "for train_index, test_index in cv.split(data, target):\n",
    "    train_x, test_x = data[train_index], data[test_index]\n",
    "    train_y, test_y = target[train_index], target[test_index]\n",
    "    nb = CategoricalNaiveBayes()\n",
    "    nb.fit(train_x, train_y, columns)\n",
    "    pred_y = nb.predict(test_x)\n",
    "    efficency.append(accuracy_score(test_y, pred_y))"
   ]
  },
  {
   "cell_type": "code",
   "execution_count": 7,
   "id": "bbfdb383",
   "metadata": {},
   "outputs": [
    {
     "name": "stdout",
     "output_type": "stream",
     "text": [
      "Average classification efficency (\"categ.csv\" dataset) = 81.42000000000002%\n"
     ]
    }
   ],
   "source": [
    "print(f\"Average classification efficency (\\\"categ.csv\\\" dataset) = {np.average(efficency) * 100}%\")"
   ]
  },
  {
   "cell_type": "markdown",
   "id": "51cd7dbe",
   "metadata": {},
   "source": [
    "#### Testing classifier on \"categ2.csv\" dataset"
   ]
  },
  {
   "cell_type": "code",
   "execution_count": 8,
   "id": "b71caa28",
   "metadata": {},
   "outputs": [],
   "source": [
    "dataset = pd.read_csv(\"dataset/categ_2.csv\")\n",
    "del dataset[\"Unnamed: 0\"]"
   ]
  },
  {
   "cell_type": "code",
   "execution_count": 9,
   "id": "afc7a60b",
   "metadata": {},
   "outputs": [
    {
     "data": {
      "text/html": [
       "<div>\n",
       "<style scoped>\n",
       "    .dataframe tbody tr th:only-of-type {\n",
       "        vertical-align: middle;\n",
       "    }\n",
       "\n",
       "    .dataframe tbody tr th {\n",
       "        vertical-align: top;\n",
       "    }\n",
       "\n",
       "    .dataframe thead th {\n",
       "        text-align: right;\n",
       "    }\n",
       "</style>\n",
       "<table border=\"1\" class=\"dataframe\">\n",
       "  <thead>\n",
       "    <tr style=\"text-align: right;\">\n",
       "      <th></th>\n",
       "      <th>size</th>\n",
       "      <th>material</th>\n",
       "      <th>color</th>\n",
       "      <th>sleeves</th>\n",
       "      <th>demand</th>\n",
       "    </tr>\n",
       "  </thead>\n",
       "  <tbody>\n",
       "    <tr>\n",
       "      <th>0</th>\n",
       "      <td>L</td>\n",
       "      <td>cotton</td>\n",
       "      <td>green</td>\n",
       "      <td>long</td>\n",
       "      <td>medium</td>\n",
       "    </tr>\n",
       "    <tr>\n",
       "      <th>1</th>\n",
       "      <td>M</td>\n",
       "      <td>cotton</td>\n",
       "      <td>cream</td>\n",
       "      <td>short</td>\n",
       "      <td>high</td>\n",
       "    </tr>\n",
       "    <tr>\n",
       "      <th>2</th>\n",
       "      <td>XL</td>\n",
       "      <td>silk</td>\n",
       "      <td>red</td>\n",
       "      <td>short</td>\n",
       "      <td>low</td>\n",
       "    </tr>\n",
       "    <tr>\n",
       "      <th>3</th>\n",
       "      <td>M</td>\n",
       "      <td>nylon</td>\n",
       "      <td>red</td>\n",
       "      <td>short</td>\n",
       "      <td>high</td>\n",
       "    </tr>\n",
       "    <tr>\n",
       "      <th>4</th>\n",
       "      <td>L</td>\n",
       "      <td>linen</td>\n",
       "      <td>red</td>\n",
       "      <td>long</td>\n",
       "      <td>high</td>\n",
       "    </tr>\n",
       "    <tr>\n",
       "      <th>...</th>\n",
       "      <td>...</td>\n",
       "      <td>...</td>\n",
       "      <td>...</td>\n",
       "      <td>...</td>\n",
       "      <td>...</td>\n",
       "    </tr>\n",
       "    <tr>\n",
       "      <th>9995</th>\n",
       "      <td>M</td>\n",
       "      <td>polyester</td>\n",
       "      <td>white</td>\n",
       "      <td>short</td>\n",
       "      <td>medium</td>\n",
       "    </tr>\n",
       "    <tr>\n",
       "      <th>9996</th>\n",
       "      <td>M</td>\n",
       "      <td>linen</td>\n",
       "      <td>white</td>\n",
       "      <td>long</td>\n",
       "      <td>high</td>\n",
       "    </tr>\n",
       "    <tr>\n",
       "      <th>9997</th>\n",
       "      <td>XXL</td>\n",
       "      <td>cotton</td>\n",
       "      <td>cream</td>\n",
       "      <td>short</td>\n",
       "      <td>high</td>\n",
       "    </tr>\n",
       "    <tr>\n",
       "      <th>9998</th>\n",
       "      <td>L</td>\n",
       "      <td>nylon</td>\n",
       "      <td>cream</td>\n",
       "      <td>long</td>\n",
       "      <td>medium</td>\n",
       "    </tr>\n",
       "    <tr>\n",
       "      <th>9999</th>\n",
       "      <td>XL</td>\n",
       "      <td>nylon</td>\n",
       "      <td>white</td>\n",
       "      <td>short</td>\n",
       "      <td>low</td>\n",
       "    </tr>\n",
       "  </tbody>\n",
       "</table>\n",
       "<p>10000 rows × 5 columns</p>\n",
       "</div>"
      ],
      "text/plain": [
       "     size   material  color sleeves  demand\n",
       "0       L     cotton  green    long  medium\n",
       "1       M     cotton  cream   short    high\n",
       "2      XL       silk    red   short     low\n",
       "3       M      nylon    red   short    high\n",
       "4       L      linen    red    long    high\n",
       "...   ...        ...    ...     ...     ...\n",
       "9995    M  polyester  white   short  medium\n",
       "9996    M      linen  white    long    high\n",
       "9997  XXL     cotton  cream   short    high\n",
       "9998    L      nylon  cream    long  medium\n",
       "9999   XL      nylon  white   short     low\n",
       "\n",
       "[10000 rows x 5 columns]"
      ]
     },
     "execution_count": 9,
     "metadata": {},
     "output_type": "execute_result"
    }
   ],
   "source": [
    "dataset"
   ]
  },
  {
   "cell_type": "code",
   "execution_count": 10,
   "id": "8be22941",
   "metadata": {},
   "outputs": [],
   "source": [
    "columns = dataset.columns.to_numpy()\n",
    "target = (dataset[\"demand\"]).to_numpy()\n",
    "del dataset[\"demand\"]\n",
    "data = dataset.to_numpy()"
   ]
  },
  {
   "cell_type": "code",
   "execution_count": 11,
   "id": "d9f8bea2",
   "metadata": {},
   "outputs": [],
   "source": [
    "target_pred = nb.predict(data)"
   ]
  },
  {
   "cell_type": "code",
   "execution_count": 12,
   "id": "8455a642",
   "metadata": {},
   "outputs": [
    {
     "name": "stdout",
     "output_type": "stream",
     "text": [
      "Average classification efficency (\"categ2.csv\" dataset) = 80.63%\n"
     ]
    }
   ],
   "source": [
    "print(f\"Average classification efficency (\\\"categ2.csv\\\" dataset) = {accuracy_score(target, target_pred) * 100}%\")"
   ]
  },
  {
   "cell_type": "code",
   "execution_count": null,
   "id": "78643ec5",
   "metadata": {},
   "outputs": [],
   "source": []
  }
 ],
 "metadata": {
  "kernelspec": {
   "display_name": "Python 3 (ipykernel)",
   "language": "python",
   "name": "python3"
  },
  "language_info": {
   "codemirror_mode": {
    "name": "ipython",
    "version": 3
   },
   "file_extension": ".py",
   "mimetype": "text/x-python",
   "name": "python",
   "nbconvert_exporter": "python",
   "pygments_lexer": "ipython3",
   "version": "3.9.12"
  }
 },
 "nbformat": 4,
 "nbformat_minor": 5
}
